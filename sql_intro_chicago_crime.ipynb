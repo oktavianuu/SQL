{
 "cells": [
  {
   "cell_type": "code",
   "execution_count": 1,
   "id": "910f0933",
   "metadata": {},
   "outputs": [
    {
     "name": "stderr",
     "output_type": "stream",
     "text": [
      "/Users/oktavianu/miniforge3/envs/data-analysis/lib/python3.11/site-packages/google/cloud/bigquery/__init__.py:31: UserWarning: pkg_resources is deprecated as an API. See https://setuptools.pypa.io/en/latest/pkg_resources.html. The pkg_resources package is slated for removal as early as 2025-11-30. Refrain from using this package or pin to Setuptools<81.\n",
      "  from pkg_resources import get_distribution\n"
     ]
    }
   ],
   "source": [
    "from google.cloud import bigquery"
   ]
  },
  {
   "cell_type": "code",
   "execution_count": 3,
   "id": "b6f2be35",
   "metadata": {},
   "outputs": [
    {
     "name": "stderr",
     "output_type": "stream",
     "text": [
      "/Users/oktavianu/miniforge3/envs/data-analysis/lib/python3.11/site-packages/google/auth/_default.py:70: UserWarning: Your application has authenticated using end user credentials from Google Cloud SDK without a quota project. You might receive a \"quota exceeded\" or \"API not enabled\" error. We recommend you rerun `gcloud auth application-default login` and make sure a quota project is added. Or you can use service accounts instead. For more information about service accounts, see https://cloud.google.com/docs/authentication/\n",
      "  warnings.warn(_CLOUD_SDK_CREDENTIALS_WARNING)\n"
     ]
    }
   ],
   "source": [
    "# create clinet objt\n",
    "client = bigquery.Client('intsql-2025')"
   ]
  },
  {
   "cell_type": "code",
   "execution_count": 4,
   "id": "1695f34e",
   "metadata": {},
   "outputs": [],
   "source": [
    "# datase ref to chicago crime\n",
    "dataset_ref = client.dataset(\"chicago_crime\", project=\"bigquery-public-data\")\n",
    "\n",
    "# API req, fetch the dataset\n",
    "dataset = client.get_dataset(dataset_ref)"
   ]
  },
  {
   "cell_type": "code",
   "execution_count": 6,
   "id": "8d0c3f84",
   "metadata": {},
   "outputs": [
    {
     "name": "stdout",
     "output_type": "stream",
     "text": [
      "1\n"
     ]
    }
   ],
   "source": [
    "# count table in this dataset\n",
    "num_tables = list(client.list_tables(dataset))\n",
    "\n",
    "print(len(num_tables))"
   ]
  },
  {
   "cell_type": "code",
   "execution_count": 5,
   "id": "5fbba665",
   "metadata": {},
   "outputs": [
    {
     "name": "stdout",
     "output_type": "stream",
     "text": [
      "crime\n"
     ]
    }
   ],
   "source": [
    "# list all tables \n",
    "tables = list(client.list_tables(dataset))\n",
    "\n",
    "# print tables\n",
    "for table in tables:\n",
    "    print(table.table_id)"
   ]
  },
  {
   "cell_type": "code",
   "execution_count": 10,
   "id": "99d63088",
   "metadata": {},
   "outputs": [],
   "source": [
    "table_ref = dataset_ref.table(\"crime\")\n",
    "\n",
    "table = client.get_table(table_ref)"
   ]
  },
  {
   "cell_type": "code",
   "execution_count": 12,
   "id": "54cabe30",
   "metadata": {},
   "outputs": [
    {
     "name": "stdout",
     "output_type": "stream",
     "text": [
      "unique_key           | INTEGER    | None\n",
      "case_number          | STRING     | None\n",
      "date                 | TIMESTAMP  | None\n",
      "block                | STRING     | None\n",
      "iucr                 | STRING     | None\n",
      "primary_type         | STRING     | None\n",
      "description          | STRING     | None\n",
      "location_description | STRING     | None\n",
      "arrest               | BOOLEAN    | None\n",
      "domestic             | BOOLEAN    | None\n",
      "beat                 | INTEGER    | None\n",
      "district             | INTEGER    | None\n",
      "ward                 | INTEGER    | None\n",
      "community_area       | INTEGER    | None\n",
      "fbi_code             | STRING     | None\n",
      "x_coordinate         | FLOAT      | None\n",
      "y_coordinate         | FLOAT      | None\n",
      "year                 | INTEGER    | None\n",
      "updated_on           | TIMESTAMP  | None\n",
      "latitude             | FLOAT      | None\n",
      "longitude            | FLOAT      | None\n",
      "location             | STRING     | None\n"
     ]
    }
   ],
   "source": [
    "for field in table.schema:\n",
    "    print(f\"{field.name:20} | {field.field_type:10} | {field.description}\")"
   ]
  },
  {
   "cell_type": "code",
   "execution_count": null,
   "id": "b9a5bb0b",
   "metadata": {},
   "outputs": [],
   "source": []
  }
 ],
 "metadata": {
  "kernelspec": {
   "display_name": "data-analysis",
   "language": "python",
   "name": "python3"
  },
  "language_info": {
   "codemirror_mode": {
    "name": "ipython",
    "version": 3
   },
   "file_extension": ".py",
   "mimetype": "text/x-python",
   "name": "python",
   "nbconvert_exporter": "python",
   "pygments_lexer": "ipython3",
   "version": "3.11.13"
  }
 },
 "nbformat": 4,
 "nbformat_minor": 5
}
