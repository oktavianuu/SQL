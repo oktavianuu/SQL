{
 "cells": [
  {
   "cell_type": "code",
   "execution_count": 4,
   "id": "910f0933",
   "metadata": {},
   "outputs": [
    {
     "name": "stderr",
     "output_type": "stream",
     "text": [
      "/Users/oktavianu/miniforge3/envs/data-analysis/lib/python3.11/site-packages/google/cloud/bigquery/__init__.py:31: UserWarning: pkg_resources is deprecated as an API. See https://setuptools.pypa.io/en/latest/pkg_resources.html. The pkg_resources package is slated for removal as early as 2025-11-30. Refrain from using this package or pin to Setuptools<81.\n",
      "  from pkg_resources import get_distribution\n"
     ]
    }
   ],
   "source": [
    "from google.cloud import bigquery"
   ]
  },
  {
   "cell_type": "code",
   "execution_count": 5,
   "id": "b6f2be35",
   "metadata": {},
   "outputs": [
    {
     "name": "stderr",
     "output_type": "stream",
     "text": [
      "/Users/oktavianu/miniforge3/envs/data-analysis/lib/python3.11/site-packages/google/auth/_default.py:70: UserWarning: Your application has authenticated using end user credentials from Google Cloud SDK without a quota project. You might receive a \"quota exceeded\" or \"API not enabled\" error. We recommend you rerun `gcloud auth application-default login` and make sure a quota project is added. Or you can use service accounts instead. For more information about service accounts, see https://cloud.google.com/docs/authentication/\n",
      "  warnings.warn(_CLOUD_SDK_CREDENTIALS_WARNING)\n"
     ]
    }
   ],
   "source": [
    "# create clinet objt\n",
    "client = bigquery.Client('intsql-2025')"
   ]
  },
  {
   "cell_type": "code",
   "execution_count": 6,
   "id": "1695f34e",
   "metadata": {},
   "outputs": [],
   "source": [
    "# datase ref to chicago crime\n",
    "dataset_ref = client.dataset(\"chicago_crime\", project=\"bigquery-public-data\")\n",
    "\n",
    "# API req, fetch the dataset\n",
    "dataset = client.get_dataset(dataset_ref)"
   ]
  },
  {
   "cell_type": "code",
   "execution_count": 7,
   "id": "8d0c3f84",
   "metadata": {},
   "outputs": [
    {
     "name": "stdout",
     "output_type": "stream",
     "text": [
      "1\n"
     ]
    }
   ],
   "source": [
    "# count table in this dataset\n",
    "num_tables = list(client.list_tables(dataset))\n",
    "\n",
    "print(len(num_tables))"
   ]
  },
  {
   "cell_type": "code",
   "execution_count": 8,
   "id": "5fbba665",
   "metadata": {},
   "outputs": [
    {
     "name": "stdout",
     "output_type": "stream",
     "text": [
      "crime\n"
     ]
    }
   ],
   "source": [
    "# list all tables \n",
    "tables = list(client.list_tables(dataset))\n",
    "\n",
    "# print tables\n",
    "for table in tables:\n",
    "    print(table.table_id)"
   ]
  },
  {
   "cell_type": "code",
   "execution_count": 9,
   "id": "99d63088",
   "metadata": {},
   "outputs": [],
   "source": [
    "table_ref = dataset_ref.table(\"crime\")\n",
    "\n",
    "table = client.get_table(table_ref)"
   ]
  },
  {
   "cell_type": "code",
   "execution_count": 10,
   "id": "54cabe30",
   "metadata": {},
   "outputs": [
    {
     "name": "stdout",
     "output_type": "stream",
     "text": [
      "unique_key           | INTEGER    | None\n",
      "case_number          | STRING     | None\n",
      "date                 | TIMESTAMP  | None\n",
      "block                | STRING     | None\n",
      "iucr                 | STRING     | None\n",
      "primary_type         | STRING     | None\n",
      "description          | STRING     | None\n",
      "location_description | STRING     | None\n",
      "arrest               | BOOLEAN    | None\n",
      "domestic             | BOOLEAN    | None\n",
      "beat                 | INTEGER    | None\n",
      "district             | INTEGER    | None\n",
      "ward                 | INTEGER    | None\n",
      "community_area       | INTEGER    | None\n",
      "fbi_code             | STRING     | None\n",
      "x_coordinate         | FLOAT      | None\n",
      "y_coordinate         | FLOAT      | None\n",
      "year                 | INTEGER    | None\n",
      "updated_on           | TIMESTAMP  | None\n",
      "latitude             | FLOAT      | None\n",
      "longitude            | FLOAT      | None\n",
      "location             | STRING     | None\n"
     ]
    }
   ],
   "source": [
    "for field in table.schema:\n",
    "    print(f\"{field.name:20} | {field.field_type:10} | {field.description}\")"
   ]
  },
  {
   "cell_type": "code",
   "execution_count": null,
   "id": "b9a5bb0b",
   "metadata": {},
   "outputs": [
    {
     "ename": "AttributeError",
     "evalue": "'str' object has no attribute 'name'",
     "output_type": "error",
     "traceback": [
      "\u001b[31m---------------------------------------------------------------------------\u001b[39m",
      "\u001b[31mAttributeError\u001b[39m                            Traceback (most recent call last)",
      "\u001b[36mCell\u001b[39m\u001b[36m \u001b[39m\u001b[32mIn[15]\u001b[39m\u001b[32m, line 1\u001b[39m\n\u001b[32m----> \u001b[39m\u001b[32m1\u001b[39m \u001b[43mclient\u001b[49m\u001b[43m.\u001b[49m\u001b[43mlist_rows\u001b[49m\u001b[43m(\u001b[49m\u001b[43mtable\u001b[49m\u001b[43m,\u001b[49m\u001b[43m \u001b[49m\u001b[43mselected_fields\u001b[49m\u001b[43m=\u001b[49m\u001b[43m[\u001b[49m\u001b[33;43m'\u001b[39;49m\u001b[33;43mlongitude\u001b[39;49m\u001b[33;43m'\u001b[39;49m\u001b[43m,\u001b[49m\u001b[43m \u001b[49m\u001b[33;43m'\u001b[39;49m\u001b[33;43mlatitude\u001b[39;49m\u001b[33;43m'\u001b[39;49m\u001b[43m,\u001b[49m\u001b[43m \u001b[49m\u001b[33;43m'\u001b[39;49m\u001b[33;43mx_coordinate\u001b[39;49m\u001b[33;43m'\u001b[39;49m\u001b[43m,\u001b[49m\u001b[43m \u001b[49m\u001b[33;43m'\u001b[39;49m\u001b[33;43my_coordinate\u001b[39;49m\u001b[33;43m'\u001b[39;49m\u001b[43m]\u001b[49m\u001b[43m,\u001b[49m\u001b[43m \u001b[49m\u001b[43mmax_results\u001b[49m\u001b[43m=\u001b[49m\u001b[32;43m10\u001b[39;49m\u001b[43m)\u001b[49m.to_dataframe()\n",
      "\u001b[36mFile \u001b[39m\u001b[32m~/miniforge3/envs/data-analysis/lib/python3.11/site-packages/google/cloud/bigquery/client.py:3119\u001b[39m, in \u001b[36mClient.list_rows\u001b[39m\u001b[34m(self, table, selected_fields, max_results, page_token, start_index, page_size, retry, timeout)\u001b[39m\n\u001b[32m   3117\u001b[39m params = {}\n\u001b[32m   3118\u001b[39m \u001b[38;5;28;01mif\u001b[39;00m selected_fields \u001b[38;5;129;01mis\u001b[39;00m \u001b[38;5;129;01mnot\u001b[39;00m \u001b[38;5;28;01mNone\u001b[39;00m:\n\u001b[32m-> \u001b[39m\u001b[32m3119\u001b[39m     params[\u001b[33m\"\u001b[39m\u001b[33mselectedFields\u001b[39m\u001b[33m\"\u001b[39m] = \u001b[33;43m\"\u001b[39;49m\u001b[33;43m,\u001b[39;49m\u001b[33;43m\"\u001b[39;49m\u001b[43m.\u001b[49m\u001b[43mjoin\u001b[49m\u001b[43m(\u001b[49m\u001b[43mfield\u001b[49m\u001b[43m.\u001b[49m\u001b[43mname\u001b[49m\u001b[43m \u001b[49m\u001b[38;5;28;43;01mfor\u001b[39;49;00m\u001b[43m \u001b[49m\u001b[43mfield\u001b[49m\u001b[43m \u001b[49m\u001b[38;5;129;43;01min\u001b[39;49;00m\u001b[43m \u001b[49m\u001b[43mselected_fields\u001b[49m\u001b[43m)\u001b[49m\n\u001b[32m   3120\u001b[39m \u001b[38;5;28;01mif\u001b[39;00m start_index \u001b[38;5;129;01mis\u001b[39;00m \u001b[38;5;129;01mnot\u001b[39;00m \u001b[38;5;28;01mNone\u001b[39;00m:\n\u001b[32m   3121\u001b[39m     params[\u001b[33m\"\u001b[39m\u001b[33mstartIndex\u001b[39m\u001b[33m\"\u001b[39m] = start_index\n",
      "\u001b[36mFile \u001b[39m\u001b[32m~/miniforge3/envs/data-analysis/lib/python3.11/site-packages/google/cloud/bigquery/client.py:3119\u001b[39m, in \u001b[36m<genexpr>\u001b[39m\u001b[34m(.0)\u001b[39m\n\u001b[32m   3117\u001b[39m params = {}\n\u001b[32m   3118\u001b[39m \u001b[38;5;28;01mif\u001b[39;00m selected_fields \u001b[38;5;129;01mis\u001b[39;00m \u001b[38;5;129;01mnot\u001b[39;00m \u001b[38;5;28;01mNone\u001b[39;00m:\n\u001b[32m-> \u001b[39m\u001b[32m3119\u001b[39m     params[\u001b[33m\"\u001b[39m\u001b[33mselectedFields\u001b[39m\u001b[33m\"\u001b[39m] = \u001b[33m\"\u001b[39m\u001b[33m,\u001b[39m\u001b[33m\"\u001b[39m.join(\u001b[43mfield\u001b[49m\u001b[43m.\u001b[49m\u001b[43mname\u001b[49m \u001b[38;5;28;01mfor\u001b[39;00m field \u001b[38;5;129;01min\u001b[39;00m selected_fields)\n\u001b[32m   3120\u001b[39m \u001b[38;5;28;01mif\u001b[39;00m start_index \u001b[38;5;129;01mis\u001b[39;00m \u001b[38;5;129;01mnot\u001b[39;00m \u001b[38;5;28;01mNone\u001b[39;00m:\n\u001b[32m   3121\u001b[39m     params[\u001b[33m\"\u001b[39m\u001b[33mstartIndex\u001b[39m\u001b[33m\"\u001b[39m] = start_index\n",
      "\u001b[31mAttributeError\u001b[39m: 'str' object has no attribute 'name'"
     ]
    }
   ],
   "source": [
    "client.list_rows(table, selected_fields=['longitude', 'latitude', 'x_coordinate', 'y_coordinate'], max_results=10).to_dataframe()"
   ]
  },
  {
   "cell_type": "code",
   "execution_count": 16,
   "id": "f85736f1",
   "metadata": {},
   "outputs": [
    {
     "name": "stdout",
     "output_type": "stream",
     "text": [
      "Available fields: ['unique_key', 'case_number', 'date', 'block', 'iucr', 'primary_type', 'description', 'location_description', 'arrest', 'domestic', 'beat', 'district', 'ward', 'community_area', 'fbi_code', 'x_coordinate', 'y_coordinate', 'year', 'updated_on', 'latitude', 'longitude', 'location']\n"
     ]
    }
   ],
   "source": [
    "field_names = [field.name for field in table.schema]\n",
    "print(\"Available fields:\", field_names)"
   ]
  },
  {
   "cell_type": "code",
   "execution_count": 20,
   "id": "9c71b329",
   "metadata": {},
   "outputs": [
    {
     "name": "stderr",
     "output_type": "stream",
     "text": [
      "/var/folders/7m/y8yqbwcj4_s9pbq64p2cdkw00000gn/T/ipykernel_1282/3553454448.py:5: UserWarning: Cannot use bqstorage_client if max_results is set, reverting to fetching data with the tabledata.list endpoint.\n",
      "  ).to_dataframe()\n"
     ]
    },
    {
     "data": {
      "text/html": [
       "<div>\n",
       "<style scoped>\n",
       "    .dataframe tbody tr th:only-of-type {\n",
       "        vertical-align: middle;\n",
       "    }\n",
       "\n",
       "    .dataframe tbody tr th {\n",
       "        vertical-align: top;\n",
       "    }\n",
       "\n",
       "    .dataframe thead th {\n",
       "        text-align: right;\n",
       "    }\n",
       "</style>\n",
       "<table border=\"1\" class=\"dataframe\">\n",
       "  <thead>\n",
       "    <tr style=\"text-align: right;\">\n",
       "      <th></th>\n",
       "      <th>unique_key</th>\n",
       "      <th>case_number</th>\n",
       "      <th>date</th>\n",
       "      <th>block</th>\n",
       "      <th>iucr</th>\n",
       "      <th>primary_type</th>\n",
       "      <th>description</th>\n",
       "      <th>location_description</th>\n",
       "      <th>arrest</th>\n",
       "      <th>domestic</th>\n",
       "    </tr>\n",
       "  </thead>\n",
       "  <tbody>\n",
       "    <tr>\n",
       "      <th>0</th>\n",
       "      <td>12461437</td>\n",
       "      <td>JE346938</td>\n",
       "      <td>2021-08-23 06:00:00+00:00</td>\n",
       "      <td>0000X E WACKER DR</td>\n",
       "      <td>0281</td>\n",
       "      <td>CRIMINAL SEXUAL ASSAULT</td>\n",
       "      <td>NON-AGGRAVATED</td>\n",
       "      <td>HOTEL / MOTEL</td>\n",
       "      <td>False</td>\n",
       "      <td>False</td>\n",
       "    </tr>\n",
       "    <tr>\n",
       "      <th>1</th>\n",
       "      <td>13395416</td>\n",
       "      <td>JH184337</td>\n",
       "      <td>2024-03-11 23:43:00+00:00</td>\n",
       "      <td>001XX N STATE ST</td>\n",
       "      <td>0281</td>\n",
       "      <td>CRIMINAL SEXUAL ASSAULT</td>\n",
       "      <td>NON-AGGRAVATED</td>\n",
       "      <td>CTA TRAIN</td>\n",
       "      <td>False</td>\n",
       "      <td>False</td>\n",
       "    </tr>\n",
       "    <tr>\n",
       "      <th>2</th>\n",
       "      <td>11419518</td>\n",
       "      <td>JB400424</td>\n",
       "      <td>2018-08-19 18:20:00+00:00</td>\n",
       "      <td>0000X E RANDOLPH ST</td>\n",
       "      <td>0312</td>\n",
       "      <td>ROBBERY</td>\n",
       "      <td>ARMED:KNIFE/CUTTING INSTRUMENT</td>\n",
       "      <td>STREET</td>\n",
       "      <td>True</td>\n",
       "      <td>False</td>\n",
       "    </tr>\n",
       "    <tr>\n",
       "      <th>3</th>\n",
       "      <td>2088091</td>\n",
       "      <td>HH313339</td>\n",
       "      <td>2002-04-17 14:40:31+00:00</td>\n",
       "      <td>001XX N CANAL ST</td>\n",
       "      <td>0313</td>\n",
       "      <td>ROBBERY</td>\n",
       "      <td>ARMED: OTHER DANGEROUS WEAPON</td>\n",
       "      <td>STREET</td>\n",
       "      <td>False</td>\n",
       "      <td>False</td>\n",
       "    </tr>\n",
       "    <tr>\n",
       "      <th>4</th>\n",
       "      <td>1794402</td>\n",
       "      <td>G619731</td>\n",
       "      <td>2001-10-15 11:15:00+00:00</td>\n",
       "      <td>0000X N CANAL ST</td>\n",
       "      <td>031A</td>\n",
       "      <td>ROBBERY</td>\n",
       "      <td>ARMED: HANDGUN</td>\n",
       "      <td>STREET</td>\n",
       "      <td>False</td>\n",
       "      <td>False</td>\n",
       "    </tr>\n",
       "    <tr>\n",
       "      <th>5</th>\n",
       "      <td>13491178</td>\n",
       "      <td>JH301061</td>\n",
       "      <td>2024-06-10 22:20:00+00:00</td>\n",
       "      <td>0000X E LAKE ST</td>\n",
       "      <td>031A</td>\n",
       "      <td>ROBBERY</td>\n",
       "      <td>ARMED - HANDGUN</td>\n",
       "      <td>CONVENIENCE STORE</td>\n",
       "      <td>False</td>\n",
       "      <td>False</td>\n",
       "    </tr>\n",
       "    <tr>\n",
       "      <th>6</th>\n",
       "      <td>5540810</td>\n",
       "      <td>HN350150</td>\n",
       "      <td>2007-05-18 13:00:00+00:00</td>\n",
       "      <td>006XX W WASHINGTON BLVD</td>\n",
       "      <td>031A</td>\n",
       "      <td>ROBBERY</td>\n",
       "      <td>ARMED: HANDGUN</td>\n",
       "      <td>PARKING LOT/GARAGE(NON.RESID.)</td>\n",
       "      <td>False</td>\n",
       "      <td>False</td>\n",
       "    </tr>\n",
       "    <tr>\n",
       "      <th>7</th>\n",
       "      <td>6030795</td>\n",
       "      <td>HP134355</td>\n",
       "      <td>2008-01-20 19:04:04+00:00</td>\n",
       "      <td>005XX W VAN BUREN ST</td>\n",
       "      <td>031A</td>\n",
       "      <td>ROBBERY</td>\n",
       "      <td>ARMED: HANDGUN</td>\n",
       "      <td>RESTAURANT</td>\n",
       "      <td>False</td>\n",
       "      <td>False</td>\n",
       "    </tr>\n",
       "    <tr>\n",
       "      <th>8</th>\n",
       "      <td>13033463</td>\n",
       "      <td>JG212994</td>\n",
       "      <td>2023-04-06 11:15:00+00:00</td>\n",
       "      <td>003XX N MICHIGAN AVE</td>\n",
       "      <td>0320</td>\n",
       "      <td>ROBBERY</td>\n",
       "      <td>STRONG ARM - NO WEAPON</td>\n",
       "      <td>RESTAURANT</td>\n",
       "      <td>False</td>\n",
       "      <td>True</td>\n",
       "    </tr>\n",
       "    <tr>\n",
       "      <th>9</th>\n",
       "      <td>13568140</td>\n",
       "      <td>JH393137</td>\n",
       "      <td>2024-08-18 16:33:00+00:00</td>\n",
       "      <td>001XX N STATE ST</td>\n",
       "      <td>0320</td>\n",
       "      <td>ROBBERY</td>\n",
       "      <td>STRONG ARM - NO WEAPON</td>\n",
       "      <td>DEPARTMENT STORE</td>\n",
       "      <td>False</td>\n",
       "      <td>False</td>\n",
       "    </tr>\n",
       "  </tbody>\n",
       "</table>\n",
       "</div>"
      ],
      "text/plain": [
       "   unique_key case_number                      date                    block  \\\n",
       "0    12461437    JE346938 2021-08-23 06:00:00+00:00        0000X E WACKER DR   \n",
       "1    13395416    JH184337 2024-03-11 23:43:00+00:00         001XX N STATE ST   \n",
       "2    11419518    JB400424 2018-08-19 18:20:00+00:00      0000X E RANDOLPH ST   \n",
       "3     2088091    HH313339 2002-04-17 14:40:31+00:00         001XX N CANAL ST   \n",
       "4     1794402     G619731 2001-10-15 11:15:00+00:00         0000X N CANAL ST   \n",
       "5    13491178    JH301061 2024-06-10 22:20:00+00:00          0000X E LAKE ST   \n",
       "6     5540810    HN350150 2007-05-18 13:00:00+00:00  006XX W WASHINGTON BLVD   \n",
       "7     6030795    HP134355 2008-01-20 19:04:04+00:00     005XX W VAN BUREN ST   \n",
       "8    13033463    JG212994 2023-04-06 11:15:00+00:00     003XX N MICHIGAN AVE   \n",
       "9    13568140    JH393137 2024-08-18 16:33:00+00:00         001XX N STATE ST   \n",
       "\n",
       "   iucr             primary_type                     description  \\\n",
       "0  0281  CRIMINAL SEXUAL ASSAULT                  NON-AGGRAVATED   \n",
       "1  0281  CRIMINAL SEXUAL ASSAULT                  NON-AGGRAVATED   \n",
       "2  0312                  ROBBERY  ARMED:KNIFE/CUTTING INSTRUMENT   \n",
       "3  0313                  ROBBERY   ARMED: OTHER DANGEROUS WEAPON   \n",
       "4  031A                  ROBBERY                  ARMED: HANDGUN   \n",
       "5  031A                  ROBBERY                 ARMED - HANDGUN   \n",
       "6  031A                  ROBBERY                  ARMED: HANDGUN   \n",
       "7  031A                  ROBBERY                  ARMED: HANDGUN   \n",
       "8  0320                  ROBBERY          STRONG ARM - NO WEAPON   \n",
       "9  0320                  ROBBERY          STRONG ARM - NO WEAPON   \n",
       "\n",
       "             location_description  arrest  domestic  \n",
       "0                   HOTEL / MOTEL   False     False  \n",
       "1                       CTA TRAIN   False     False  \n",
       "2                          STREET    True     False  \n",
       "3                          STREET   False     False  \n",
       "4                          STREET   False     False  \n",
       "5               CONVENIENCE STORE   False     False  \n",
       "6  PARKING LOT/GARAGE(NON.RESID.)   False     False  \n",
       "7                      RESTAURANT   False     False  \n",
       "8                      RESTAURANT   False      True  \n",
       "9                DEPARTMENT STORE   False     False  "
      ]
     },
     "execution_count": 20,
     "metadata": {},
     "output_type": "execute_result"
    }
   ],
   "source": [
    "client.list_rows(\n",
    "    table,\n",
    "    selected_fields=table.schema[:10],\n",
    "    max_results=10\n",
    ").to_dataframe()"
   ]
  },
  {
   "cell_type": "code",
   "execution_count": 21,
   "id": "0e067187",
   "metadata": {},
   "outputs": [],
   "source": [
    "geo_columns = ['longitude', 'latitude', 'x_coordinate', 'y_coordinate']\n",
    "\n",
    "selected_columns = [\n",
    "    field for field in table.schema\n",
    "    if field.name in geo_columns\n",
    "]\n",
    "\n",
    "geog_columns = client.list_rows(\n",
    "    table,\n",
    "    selected_fields=selected_columns,\n",
    ").to_dataframe()"
   ]
  },
  {
   "cell_type": "code",
   "execution_count": 22,
   "id": "7aae5aa9",
   "metadata": {},
   "outputs": [
    {
     "name": "stdout",
     "output_type": "stream",
     "text": [
      "         x_coordinate  y_coordinate   latitude  longitude\n",
      "0           1173132.0     1899349.0  41.879242 -87.639747\n",
      "1           1176621.0     1902155.0  41.886864 -87.626852\n",
      "2           1173190.0     1898749.0  41.877594 -87.639552\n",
      "3           1173177.0     1899236.0  41.878931 -87.639586\n",
      "4           1172180.0     1899351.0  41.879269 -87.643243\n",
      "...               ...           ...        ...        ...\n",
      "8430738     1150357.0     1908511.0  41.904858 -87.723135\n",
      "8430739     1151073.0     1908137.0  41.903818 -87.720514\n",
      "8430740     1149855.0     1909684.0  41.908087 -87.724948\n",
      "8430741     1150926.0     1913025.0  41.917234 -87.720926\n",
      "8430742     1152121.0     1910560.0  41.910446 -87.716601\n",
      "\n",
      "[8430743 rows x 4 columns]\n"
     ]
    }
   ],
   "source": [
    "print(geog_columns)"
   ]
  },
  {
   "cell_type": "code",
   "execution_count": null,
   "id": "5b9edb1e",
   "metadata": {},
   "outputs": [],
   "source": []
  }
 ],
 "metadata": {
  "kernelspec": {
   "display_name": "data-analysis",
   "language": "python",
   "name": "python3"
  },
  "language_info": {
   "codemirror_mode": {
    "name": "ipython",
    "version": 3
   },
   "file_extension": ".py",
   "mimetype": "text/x-python",
   "name": "python",
   "nbconvert_exporter": "python",
   "pygments_lexer": "ipython3",
   "version": "3.11.13"
  }
 },
 "nbformat": 4,
 "nbformat_minor": 5
}
